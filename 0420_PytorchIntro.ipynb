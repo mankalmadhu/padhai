{
 "cells": [
  {
   "cell_type": "markdown",
   "metadata": {
    "colab_type": "text",
    "id": "KPqFTlOiiiKv"
   },
   "source": [
    "## Outline\n",
    "* PyTorch\n",
    "* What are tensors\n",
    "* Initialising, slicing, reshaping tensors\n",
    "* Numpy and PyTorch interfacing\n",
    "* GPU support for PyTorch + Enabling GPUs on Google Colab\n",
    "* Speed comparisons, Numpy -- PyTorch -- PyTorch on GPU\n",
    "* Autodiff concepts and application\n",
    "* Writing a basic learning loop using autograd\n",
    "* Exercises"
   ]
  },
  {
   "cell_type": "code",
   "execution_count": 8,
   "metadata": {
    "colab": {},
    "colab_type": "code",
    "id": "j4wIFDnRakTz"
   },
   "outputs": [],
   "source": [
    "import torch\n",
    "import numpy as np\n",
    "import matplotlib.pyplot as plt"
   ]
  },
  {
   "cell_type": "markdown",
   "metadata": {
    "colab_type": "text",
    "id": "WJyLCI8PcPZq"
   },
   "source": [
    "## Initialise tensors"
   ]
  },
  {
   "cell_type": "code",
   "execution_count": 9,
   "metadata": {
    "colab": {},
    "colab_type": "code",
    "id": "NV2jveDIayX-"
   },
   "outputs": [
    {
     "name": "stdout",
     "output_type": "stream",
     "text": [
      "tensor([[1., 1.],\n",
      "        [1., 1.],\n",
      "        [1., 1.]])\n",
      "tensor([[0., 0.],\n",
      "        [0., 0.],\n",
      "        [0., 0.]])\n",
      "tensor([[0.5148, 0.8019],\n",
      "        [0.1681, 0.5062],\n",
      "        [0.4999, 0.7305]])\n"
     ]
    }
   ],
   "source": [
    "x = torch.ones(3, 2)\n",
    "print(x)\n",
    "x = torch.zeros(3, 2)\n",
    "print(x)\n",
    "x = torch.rand(3, 2)\n",
    "print(x)"
   ]
  },
  {
   "cell_type": "code",
   "execution_count": 10,
   "metadata": {
    "colab": {},
    "colab_type": "code",
    "id": "BuAQVNaPFN1P"
   },
   "outputs": [
    {
     "name": "stdout",
     "output_type": "stream",
     "text": [
      "tensor([[4.4411e-38, 0.0000e+00],\n",
      "        [1.4272e-36, 0.0000e+00],\n",
      "        [1.4013e-45, 0.0000e+00]])\n",
      "tensor([[0., 0.],\n",
      "        [0., 0.],\n",
      "        [0., 0.]])\n"
     ]
    }
   ],
   "source": [
    "x = torch.empty(3, 2)\n",
    "print(x)\n",
    "y = torch.zeros_like(x)\n",
    "print(y)"
   ]
  },
  {
   "cell_type": "code",
   "execution_count": 11,
   "metadata": {
    "colab": {},
    "colab_type": "code",
    "id": "bWrOMr-hFbwo"
   },
   "outputs": [
    {
     "name": "stdout",
     "output_type": "stream",
     "text": [
      "tensor([0.0000, 0.2500, 0.5000, 0.7500, 1.0000])\n"
     ]
    }
   ],
   "source": [
    "x = torch.linspace(0, 1, steps=5)\n",
    "print(x)"
   ]
  },
  {
   "cell_type": "code",
   "execution_count": 12,
   "metadata": {
    "colab": {},
    "colab_type": "code",
    "id": "l_QspfvYEtuB"
   },
   "outputs": [
    {
     "name": "stdout",
     "output_type": "stream",
     "text": [
      "tensor([[1, 2],\n",
      "        [3, 4],\n",
      "        [5, 6]])\n"
     ]
    }
   ],
   "source": [
    "x = torch.tensor([[1, 2], \n",
    "                 [3, 4], \n",
    "                 [5, 6]])\n",
    "print(x)"
   ]
  },
  {
   "cell_type": "markdown",
   "metadata": {
    "colab_type": "text",
    "id": "wKub-KJLcSDJ"
   },
   "source": [
    "## Slicing tensors"
   ]
  },
  {
   "cell_type": "code",
   "execution_count": null,
   "metadata": {
    "colab": {},
    "colab_type": "code",
    "id": "UxSlfSVrbH8h"
   },
   "outputs": [],
   "source": [
    "print(x.size())\n",
    "print(x[:, 1]) \n",
    "print(x[0, :]) "
   ]
  },
  {
   "cell_type": "code",
   "execution_count": null,
   "metadata": {
    "colab": {},
    "colab_type": "code",
    "id": "AGWkj2utcrz9"
   },
   "outputs": [],
   "source": [
    "y = x[1, 1]\n",
    "print(y)\n",
    "print(y.item())"
   ]
  },
  {
   "cell_type": "markdown",
   "metadata": {
    "colab_type": "text",
    "id": "6YvWGrX0cUpf"
   },
   "source": [
    "## Reshaping tensors"
   ]
  },
  {
   "cell_type": "code",
   "execution_count": null,
   "metadata": {
    "colab": {},
    "colab_type": "code",
    "id": "mn1q-Hm7b6hP"
   },
   "outputs": [],
   "source": [
    "print(x)\n",
    "y = x.view(2, 3)\n",
    "print(y)"
   ]
  },
  {
   "cell_type": "code",
   "execution_count": null,
   "metadata": {
    "colab": {},
    "colab_type": "code",
    "id": "1EbIwPvBF4Lg"
   },
   "outputs": [],
   "source": [
    "y = x.view(6,-1) \n",
    "print(y)"
   ]
  },
  {
   "cell_type": "markdown",
   "metadata": {
    "colab_type": "text",
    "id": "2XxOq0ObdXEC"
   },
   "source": [
    "## Simple Tensor Operations"
   ]
  },
  {
   "cell_type": "code",
   "execution_count": null,
   "metadata": {
    "colab": {},
    "colab_type": "code",
    "id": "Rv4jjqBVdIB2"
   },
   "outputs": [],
   "source": [
    "x = torch.ones([3, 2])\n",
    "y = torch.ones([3, 2])\n",
    "z = x + y\n",
    "print(z)\n",
    "z = x - y\n",
    "print(z)\n",
    "z = x * y\n",
    "print(z)"
   ]
  },
  {
   "cell_type": "code",
   "execution_count": null,
   "metadata": {
    "colab": {},
    "colab_type": "code",
    "id": "dVHnXB78dl8s"
   },
   "outputs": [],
   "source": [
    "z = y.add(x)\n",
    "print(z)\n",
    "print(y)"
   ]
  },
  {
   "cell_type": "code",
   "execution_count": null,
   "metadata": {
    "colab": {},
    "colab_type": "code",
    "id": "LewBBuz_eL1m"
   },
   "outputs": [],
   "source": [
    "z = y.add_(x)\n",
    "print(z)\n",
    "print(y)"
   ]
  },
  {
   "cell_type": "markdown",
   "metadata": {
    "colab_type": "text",
    "id": "PDuBSdzTc2Bq"
   },
   "source": [
    "## Numpy <> PyTorch"
   ]
  },
  {
   "cell_type": "code",
   "execution_count": null,
   "metadata": {
    "colab": {},
    "colab_type": "code",
    "id": "NlvqO8_1ccML"
   },
   "outputs": [],
   "source": [
    "x_np = x.numpy()\n",
    "print(type(x), type(x_np))\n",
    "print(x_np)"
   ]
  },
  {
   "cell_type": "code",
   "execution_count": null,
   "metadata": {
    "colab": {},
    "colab_type": "code",
    "id": "tLhS3Hrmc-M2"
   },
   "outputs": [],
   "source": [
    "a = np.random.randn(5)\n",
    "print(a)\n",
    "a_pt = torch.from_numpy(a)\n",
    "print(type(a), type(a_pt))\n",
    "print(a_pt)"
   ]
  },
  {
   "cell_type": "code",
   "execution_count": null,
   "metadata": {
    "colab": {},
    "colab_type": "code",
    "id": "kwZhRYVtdp-X"
   },
   "outputs": [],
   "source": [
    "np.add(a, 1, out=a)\n",
    "print(a)\n",
    "print(a_pt) "
   ]
  },
  {
   "cell_type": "code",
   "execution_count": null,
   "metadata": {
    "colab": {},
    "colab_type": "code",
    "id": "6z-Mhf2hewcU"
   },
   "outputs": [],
   "source": [
    "%%time\n",
    "for i in range(100):\n",
    "  a = np.random.randn(100,100)\n",
    "  b = np.random.randn(100,100)\n",
    "  c = np.matmul(a, b)"
   ]
  },
  {
   "cell_type": "code",
   "execution_count": null,
   "metadata": {
    "colab": {},
    "colab_type": "code",
    "id": "aFzIX2qge3x9"
   },
   "outputs": [],
   "source": [
    "%%time\n",
    "for i in range(100):\n",
    "  a = torch.randn([100, 100])\n",
    "  b = torch.randn([100, 100])\n",
    "  c = torch.matmul(a, b)"
   ]
  },
  {
   "cell_type": "code",
   "execution_count": null,
   "metadata": {
    "colab": {},
    "colab_type": "code",
    "id": "Pdat0Hnm6hGA"
   },
   "outputs": [],
   "source": [
    "%%time\n",
    "for i in range(10):\n",
    "  a = np.random.randn(10000,10000)\n",
    "  b = np.random.randn(10000,10000)\n",
    "  c = a + b"
   ]
  },
  {
   "cell_type": "code",
   "execution_count": null,
   "metadata": {
    "colab": {},
    "colab_type": "code",
    "id": "XlRx5OKl6kEq"
   },
   "outputs": [],
   "source": [
    "%%time\n",
    "for i in range(10):\n",
    "  a = torch.randn([10000, 10000])\n",
    "  b = torch.randn([10000, 10000])\n",
    "  c = a + b"
   ]
  },
  {
   "cell_type": "markdown",
   "metadata": {
    "colab_type": "text",
    "id": "de5YwtfUgMWO"
   },
   "source": [
    "## CUDA support"
   ]
  },
  {
   "cell_type": "code",
   "execution_count": 19,
   "metadata": {
    "colab": {},
    "colab_type": "code",
    "id": "-nI4nYcWgY1B"
   },
   "outputs": [
    {
     "name": "stdout",
     "output_type": "stream",
     "text": [
      "0\n"
     ]
    }
   ],
   "source": [
    "print(torch.cuda.device_count())"
   ]
  },
  {
   "cell_type": "code",
   "execution_count": null,
   "metadata": {
    "colab": {},
    "colab_type": "code",
    "id": "_3E-PMC1gfKU"
   },
   "outputs": [],
   "source": [
    "print(torch.cuda.device(0))\n",
    "print(torch.cuda.get_device_name(0))"
   ]
  },
  {
   "cell_type": "code",
   "execution_count": null,
   "metadata": {
    "colab": {},
    "colab_type": "code",
    "id": "_eZYxVpMgor4"
   },
   "outputs": [],
   "source": [
    "cuda0 = torch.device('cuda:0')"
   ]
  },
  {
   "cell_type": "code",
   "execution_count": null,
   "metadata": {
    "colab": {},
    "colab_type": "code",
    "id": "j1r7y57x9JZU"
   },
   "outputs": [],
   "source": [
    "a = torch.ones(3, 2, device=cuda0)\n",
    "b = torch.ones(3, 2, device=cuda0)\n",
    "c = a + b\n",
    "print(c)"
   ]
  },
  {
   "cell_type": "code",
   "execution_count": null,
   "metadata": {
    "colab": {},
    "colab_type": "code",
    "id": "wSt3W1s-_Gc3"
   },
   "outputs": [],
   "source": [
    "print(a)"
   ]
  },
  {
   "cell_type": "code",
   "execution_count": null,
   "metadata": {
    "colab": {},
    "colab_type": "code",
    "id": "sVfOAU2EfTXB"
   },
   "outputs": [],
   "source": [
    "%%time\n",
    "for i in range(10):\n",
    "  a = np.random.randn(10000,10000)\n",
    "  b = np.random.randn(10000,10000)\n",
    "  np.add(b, a)"
   ]
  },
  {
   "cell_type": "code",
   "execution_count": null,
   "metadata": {
    "colab": {},
    "colab_type": "code",
    "id": "G9GLUek5hCfn"
   },
   "outputs": [],
   "source": [
    "%%time\n",
    "for i in range(10):\n",
    "  a_cpu = torch.randn([10000, 10000])\n",
    "  b_cpu = torch.randn([10000, 10000])\n",
    "  b_cpu.add_(a_cpu)"
   ]
  },
  {
   "cell_type": "code",
   "execution_count": null,
   "metadata": {
    "colab": {},
    "colab_type": "code",
    "id": "FqSYioGrgyMI"
   },
   "outputs": [],
   "source": [
    "%%time\n",
    "for i in range(10):\n",
    "  a = torch.randn([10000, 10000], device=cuda0)\n",
    "  b = torch.randn([10000, 10000], device=cuda0)\n",
    "  b.add_(a)"
   ]
  },
  {
   "cell_type": "code",
   "execution_count": null,
   "metadata": {
    "colab": {},
    "colab_type": "code",
    "id": "Kjsl8xRFjPtT"
   },
   "outputs": [],
   "source": [
    "%%time\n",
    "for i in range(10):\n",
    "  a = np.random.randn(10000,10000)\n",
    "  b = np.random.randn(10000,10000)\n",
    "  np.matmul(b, a)"
   ]
  },
  {
   "cell_type": "code",
   "execution_count": null,
   "metadata": {
    "colab": {},
    "colab_type": "code",
    "id": "avFqbCgXjT3F"
   },
   "outputs": [],
   "source": [
    "%%time\n",
    "for i in range(10):\n",
    "  a_cpu = torch.randn([10000, 10000])\n",
    "  b_cpu = torch.randn([10000, 10000])\n",
    "  torch.matmul(a_cpu, b_cpu)"
   ]
  },
  {
   "cell_type": "code",
   "execution_count": null,
   "metadata": {
    "colab": {},
    "colab_type": "code",
    "id": "hFfMhN2gjlZJ"
   },
   "outputs": [],
   "source": [
    "%%time\n",
    "for i in range(10):\n",
    "  a = torch.randn([10000, 10000], device=cuda0)\n",
    "  b = torch.randn([10000, 10000], device=cuda0)\n",
    "  torch.matmul(a, b)"
   ]
  },
  {
   "cell_type": "markdown",
   "metadata": {
    "colab_type": "text",
    "id": "P_6TU64Gi7jv"
   },
   "source": [
    "## Autodiff"
   ]
  },
  {
   "cell_type": "code",
   "execution_count": 2,
   "metadata": {
    "colab": {
     "base_uri": "https://localhost:8080/",
     "height": 74
    },
    "colab_type": "code",
    "id": "PjySsLMThEX7",
    "outputId": "b1cef456-8281-42b0-8205-d7b988c3c383"
   },
   "outputs": [
    {
     "name": "stdout",
     "output_type": "stream",
     "text": [
      "tensor([[1., 1.],\n",
      "        [1., 1.],\n",
      "        [1., 1.]], requires_grad=True)\n"
     ]
    }
   ],
   "source": [
    "x = torch.ones([3, 2], requires_grad=True)\n",
    "print(x)"
   ]
  },
  {
   "cell_type": "code",
   "execution_count": 3,
   "metadata": {
    "colab": {
     "base_uri": "https://localhost:8080/",
     "height": 74
    },
    "colab_type": "code",
    "id": "neb3oFWBjAtJ",
    "outputId": "a9e1faf0-841d-41d1-f9c4-e429e1fdd0bc"
   },
   "outputs": [
    {
     "name": "stdout",
     "output_type": "stream",
     "text": [
      "tensor([[6., 6.],\n",
      "        [6., 6.],\n",
      "        [6., 6.]], grad_fn=<AddBackward0>)\n"
     ]
    }
   ],
   "source": [
    "y = x + 5\n",
    "print(y)"
   ]
  },
  {
   "cell_type": "code",
   "execution_count": 4,
   "metadata": {
    "colab": {
     "base_uri": "https://localhost:8080/",
     "height": 74
    },
    "colab_type": "code",
    "id": "5M0pnstAjLa-",
    "outputId": "b9861325-9ec6-41bb-995f-ae54210628c2"
   },
   "outputs": [
    {
     "name": "stdout",
     "output_type": "stream",
     "text": [
      "tensor([[37., 37.],\n",
      "        [37., 37.],\n",
      "        [37., 37.]], grad_fn=<AddBackward0>)\n"
     ]
    }
   ],
   "source": [
    "z = y*y + 1\n",
    "print(z)"
   ]
  },
  {
   "cell_type": "code",
   "execution_count": 5,
   "metadata": {
    "colab": {
     "base_uri": "https://localhost:8080/",
     "height": 36
    },
    "colab_type": "code",
    "id": "wHHDSmiUkMOw",
    "outputId": "93374258-d506-4eba-c359-13fc160d0123"
   },
   "outputs": [
    {
     "name": "stdout",
     "output_type": "stream",
     "text": [
      "tensor(222., grad_fn=<SumBackward0>)\n"
     ]
    }
   ],
   "source": [
    "t = torch.sum(z)\n",
    "print(t)"
   ]
  },
  {
   "cell_type": "code",
   "execution_count": null,
   "metadata": {
    "colab": {},
    "colab_type": "code",
    "id": "AXj896azkM_S"
   },
   "outputs": [],
   "source": [
    "t.backward()"
   ]
  },
  {
   "cell_type": "code",
   "execution_count": 7,
   "metadata": {
    "colab": {
     "base_uri": "https://localhost:8080/",
     "height": 74
    },
    "colab_type": "code",
    "id": "wSYAcNN1lAWS",
    "outputId": "c82aa737-eb40-45f5-ad44-5e28484d5e72"
   },
   "outputs": [
    {
     "name": "stdout",
     "output_type": "stream",
     "text": [
      "tensor([[12., 12.],\n",
      "        [12., 12.],\n",
      "        [12., 12.]])\n"
     ]
    }
   ],
   "source": [
    "print(x.grad)"
   ]
  },
  {
   "cell_type": "markdown",
   "metadata": {
    "colab_type": "text",
    "id": "6nrD44oJiEIY"
   },
   "source": [
    "$t = \\sum_i z_i, z_i = y_i^2 + 1, y_i = x_i + 5$\n",
    "\n",
    "$\\frac{\\partial t}{\\partial x_i} = \\frac{\\partial z_i}{\\partial x_i} = \\frac{\\partial z_i}{\\partial y_i} \\frac{\\partial y_i}{\\partial x_i} = 2y_i \\times 1$\n",
    "\n",
    "\n",
    "At x = 1, y = 6, $\\frac{\\partial t}{\\partial x_i} = 12$"
   ]
  },
  {
   "cell_type": "code",
   "execution_count": 8,
   "metadata": {
    "colab": {
     "base_uri": "https://localhost:8080/",
     "height": 132
    },
    "colab_type": "code",
    "id": "ZFCWPPAP6ipv",
    "outputId": "d1d2243a-af30-4317-e303-3eee8058400e"
   },
   "outputs": [
    {
     "name": "stdout",
     "output_type": "stream",
     "text": [
      "tensor([[0.9975, 0.9975],\n",
      "        [0.9975, 0.9975],\n",
      "        [0.9975, 0.9975]], grad_fn=<MulBackward0>)\n",
      "tensor([[0.0025, 0.0025],\n",
      "        [0.0025, 0.0025],\n",
      "        [0.0025, 0.0025]])\n"
     ]
    }
   ],
   "source": [
    "x = torch.ones([3, 2], requires_grad=True)\n",
    "y = x + 5\n",
    "r = 1/(1 + torch.exp(-y))\n",
    "print(r)\n",
    "s = torch.sum(r)\n",
    "s.backward()\n",
    "print(x.grad)"
   ]
  },
  {
   "cell_type": "code",
   "execution_count": 9,
   "metadata": {
    "colab": {
     "base_uri": "https://localhost:8080/",
     "height": 74
    },
    "colab_type": "code",
    "id": "Ts1wsONqlE5h",
    "outputId": "f42bd6a2-0c97-4b44-96d0-3e9eae2b90a0"
   },
   "outputs": [
    {
     "name": "stdout",
     "output_type": "stream",
     "text": [
      "tensor([[0.0025, 0.0025],\n",
      "        [0.0025, 0.0025],\n",
      "        [0.0025, 0.0025]])\n"
     ]
    }
   ],
   "source": [
    "x = torch.ones([3, 2], requires_grad=True)\n",
    "y = x + 5\n",
    "r = 1/(1 + torch.exp(-y))\n",
    "a = torch.ones([3, 2])\n",
    "r.backward(a)\n",
    "print(x.grad)"
   ]
  },
  {
   "cell_type": "markdown",
   "metadata": {
    "colab_type": "text",
    "id": "56AqY5hY77dx"
   },
   "source": [
    "$\\frac{\\partial{s}}{\\partial{x}} = \\frac{\\partial{s}}{\\partial{r}} \\cdot \\frac{\\partial{r}}{\\partial{x}}$\n",
    "\n",
    "For the above code $a$ represents $\\frac{\\partial{s}}{\\partial{r}}$ and then $x.grad$ gives directly $\\frac{\\partial{s}}{\\partial{x}}$\n",
    "\n"
   ]
  },
  {
   "cell_type": "markdown",
   "metadata": {
    "colab_type": "text",
    "id": "AKhxwdYUpUfj"
   },
   "source": [
    "## Autodiff example that looks like what we have been doing"
   ]
  },
  {
   "cell_type": "code",
   "execution_count": 13,
   "metadata": {
    "colab": {},
    "colab_type": "code",
    "id": "THNkQLR6mmpO"
   },
   "outputs": [],
   "source": [
    "x = torch.randn([20, 1], requires_grad=True)\n",
    "y = 3*x - 2"
   ]
  },
  {
   "cell_type": "code",
   "execution_count": 14,
   "metadata": {
    "colab": {},
    "colab_type": "code",
    "id": "-t4_8qgdnjDk"
   },
   "outputs": [],
   "source": [
    "w = torch.tensor([1.], requires_grad=True)\n",
    "b = torch.tensor([1.], requires_grad=True)\n",
    "\n",
    "y_hat = w*x + b\n",
    "\n",
    "loss = torch.sum((y_hat - y)**2)"
   ]
  },
  {
   "cell_type": "code",
   "execution_count": 15,
   "metadata": {
    "colab": {
     "base_uri": "https://localhost:8080/",
     "height": 36
    },
    "colab_type": "code",
    "id": "Gvpc37u-o6ob",
    "outputId": "6846154f-587d-4aa3-cad5-4e3be6d08fc2"
   },
   "outputs": [
    {
     "name": "stdout",
     "output_type": "stream",
     "text": [
      "tensor(174.0057, grad_fn=<SumBackward0>)\n"
     ]
    }
   ],
   "source": [
    "print(loss)"
   ]
  },
  {
   "cell_type": "code",
   "execution_count": 16,
   "metadata": {
    "colab": {},
    "colab_type": "code",
    "id": "-tnKq6DXo-RB"
   },
   "outputs": [],
   "source": [
    "loss.backward()"
   ]
  },
  {
   "cell_type": "code",
   "execution_count": 17,
   "metadata": {
    "colab": {
     "base_uri": "https://localhost:8080/",
     "height": 36
    },
    "colab_type": "code",
    "id": "I38qmZLhpM2F",
    "outputId": "9ab231ff-c34e-450f-9d3a-8ef2b8068096"
   },
   "outputs": [
    {
     "name": "stdout",
     "output_type": "stream",
     "text": [
      "tensor([-22.5096]) tensor([100.9974])\n"
     ]
    }
   ],
   "source": [
    "print(w.grad, b.grad)"
   ]
  },
  {
   "cell_type": "markdown",
   "metadata": {
    "colab_type": "text",
    "id": "WfDV6saTq8XA"
   },
   "source": [
    "## Do it in a loop"
   ]
  },
  {
   "cell_type": "code",
   "execution_count": 18,
   "metadata": {
    "colab": {
     "base_uri": "https://localhost:8080/",
     "height": 227
    },
    "colab_type": "code",
    "id": "ivmJgJQTpN79",
    "outputId": "831ec258-0f1e-4dbb-843f-d413a54c0784"
   },
   "outputs": [
    {
     "name": "stdout",
     "output_type": "stream",
     "text": [
      "1.0 1.0\n",
      "1.650165319442749 -0.20884907245635986\n",
      "2.0159735679626465 -0.9337726831436157\n",
      "2.0511128902435303 -1.1324867010116577\n",
      "2.4197325706481934 -1.4579274654388428\n",
      "2.670011520385742 -1.6618828773498535\n",
      "2.7776403427124023 -1.7738463878631592\n",
      "2.9192006587982178 -1.8892258405685425\n",
      "2.9337031841278076 -1.933219313621521\n",
      "2.9575395584106445 -1.9640107154846191\n",
      "2.986504316329956 -1.981475591659546\n"
     ]
    }
   ],
   "source": [
    "learning_rate = 0.01\n",
    "\n",
    "w = torch.tensor([1.], requires_grad=True)\n",
    "b = torch.tensor([1.], requires_grad=True)\n",
    "\n",
    "print(w.item(), b.item())\n",
    "\n",
    "for i in range(10):\n",
    "  \n",
    "  x = torch.randn([20, 1])\n",
    "  y = 3*x - 2\n",
    "  \n",
    "  y_hat = w*x + b\n",
    "  loss = torch.sum((y_hat - y)**2)\n",
    "  \n",
    "  loss.backward()\n",
    "  \n",
    "  with torch.no_grad():\n",
    "    w -= learning_rate * w.grad\n",
    "    b -= learning_rate * b.grad\n",
    "    \n",
    "    w.grad.zero_()\n",
    "    b.grad.zero_()\n",
    "\n",
    "  print(w.item(), b.item())\n",
    "  "
   ]
  },
  {
   "cell_type": "markdown",
   "metadata": {
    "colab_type": "text",
    "id": "vyOqrZZiuLkl"
   },
   "source": [
    "## Do it for a large problem"
   ]
  },
  {
   "cell_type": "code",
   "execution_count": 30,
   "metadata": {
    "colab": {
     "base_uri": "https://localhost:8080/",
     "height": 55
    },
    "colab_type": "code",
    "id": "qq3Iykk1rMfh",
    "outputId": "cd799469-ac56-4328-aa9e-33e0c17e57c6"
   },
   "outputs": [
    {
     "name": "stdout",
     "output_type": "stream",
     "text": [
      "CPU times: user 36.7 s, sys: 443 ms, total: 37.2 s\n",
      "Wall time: 37.2 s\n"
     ]
    }
   ],
   "source": [
    "%%time\n",
    "learning_rate = 0.001\n",
    "N = 10000000\n",
    "epochs = 200\n",
    "\n",
    "w = torch.rand([N], requires_grad=True)\n",
    "b = torch.ones([1], requires_grad=True)\n",
    "\n",
    "# print(torch.mean(w).item(), b.item())\n",
    "\n",
    "for i in range(epochs):\n",
    "  \n",
    "  x = torch.randn([N])\n",
    "  y = torch.dot(3*torch.ones([N]), x) - 2\n",
    "  \n",
    "  y_hat = torch.dot(w, x) + b\n",
    "  loss = torch.sum((y_hat - y)**2)\n",
    "  \n",
    "  loss.backward()\n",
    "  \n",
    "  with torch.no_grad():\n",
    "    w -= learning_rate * w.grad\n",
    "    b -= learning_rate * b.grad\n",
    "    \n",
    "    w.grad.zero_()\n",
    "    b.grad.zero_()\n",
    "\n",
    "#   print(torch.mean(w).item(), b.item())\n",
    "  "
   ]
  },
  {
   "cell_type": "code",
   "execution_count": 31,
   "metadata": {
    "colab": {
     "base_uri": "https://localhost:8080/",
     "height": 55
    },
    "colab_type": "code",
    "id": "owaeEn4A01zF",
    "outputId": "1dba52f0-f0de-41b8-8325-ab1e1a6e21b3"
   },
   "outputs": [
    {
     "name": "stdout",
     "output_type": "stream",
     "text": [
      "CPU times: user 467 ms, sys: 305 ms, total: 772 ms\n",
      "Wall time: 784 ms\n"
     ]
    }
   ],
   "source": [
    "%%time\n",
    "learning_rate = 0.001\n",
    "N = 10000000\n",
    "epochs = 200\n",
    "\n",
    "w = torch.rand([N], requires_grad=True, device=cuda0)\n",
    "b = torch.ones([1], requires_grad=True, device=cuda0)\n",
    "\n",
    "# print(torch.mean(w).item(), b.item())\n",
    "\n",
    "for i in range(epochs):\n",
    "  \n",
    "  x = torch.randn([N], device=cuda0)\n",
    "  y = torch.dot(3*torch.ones([N], device=cuda0), x) - 2\n",
    "  \n",
    "  y_hat = torch.dot(w, x) + b\n",
    "  loss = torch.sum((y_hat - y)**2)\n",
    "  \n",
    "  loss.backward()\n",
    "  \n",
    "  with torch.no_grad():\n",
    "    w -= learning_rate * w.grad\n",
    "    b -= learning_rate * b.grad\n",
    "    \n",
    "    w.grad.zero_()\n",
    "    b.grad.zero_()\n",
    "\n",
    "  #print(torch.mean(w).item(), b.item())\n",
    "  "
   ]
  },
  {
   "cell_type": "code",
   "execution_count": null,
   "metadata": {
    "colab": {},
    "colab_type": "code",
    "id": "4TmBA3VO9Jva"
   },
   "outputs": [],
   "source": []
  }
 ],
 "metadata": {
  "accelerator": "GPU",
  "colab": {
   "collapsed_sections": [],
   "name": "0420_PytorchIntro.ipynb",
   "provenance": [],
   "version": "0.3.2"
  },
  "kernelspec": {
   "display_name": "Python 3",
   "language": "python",
   "name": "python3"
  },
  "language_info": {
   "codemirror_mode": {
    "name": "ipython",
    "version": 3
   },
   "file_extension": ".py",
   "mimetype": "text/x-python",
   "name": "python",
   "nbconvert_exporter": "python",
   "pygments_lexer": "ipython3",
   "version": "3.6.9"
  }
 },
 "nbformat": 4,
 "nbformat_minor": 4
}
